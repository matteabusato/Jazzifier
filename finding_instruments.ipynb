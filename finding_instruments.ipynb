{
 "cells": [
  {
   "cell_type": "code",
   "execution_count": 7,
   "metadata": {},
   "outputs": [],
   "source": [
    "import os\n",
    "import pretty_midi\n",
    "\n",
    "# Path to the directory containing MIDI files\n",
    "midi_dir = \"data_alltogheter\"\n",
    "\n",
    "# Get list of .mid or .midi files (first 100)\n",
    "midi_files = [f for f in os.listdir(midi_dir) if f.lower().endswith(('.mid', '.midi'))]\n",
    "\n",
    "# Iterate over each file\n",
    "for filename in midi_files:\n",
    "    filepath = os.path.join(midi_dir, filename)\n",
    "    \n",
    "    try:\n",
    "        midi_data = pretty_midi.PrettyMIDI(filepath)\n",
    "        printed_header = False  # Only print filename if non-piano instrument is found\n",
    "\n",
    "        for instrument in midi_data.instruments:\n",
    "            if not instrument.is_drum and instrument.program != 0:\n",
    "                if not printed_header:\n",
    "                    print(f\"\\n--- Processing: {filename} ---\")\n",
    "                    printed_header = True\n",
    "\n",
    "                name = instrument.name if instrument.name else \"Unnamed\"\n",
    "                program = instrument.program\n",
    "                instrument_name = pretty_midi.program_to_instrument_name(program)\n",
    "                print(f\"Instrument: {instrument_name}, Program: {program}, Name: {name}, Drum: False\")\n",
    "\n",
    "    except Exception as e:\n",
    "        print(f\"Error processing {filename}: {e}\")\n"
   ]
  },
  {
   "cell_type": "markdown",
   "metadata": {},
   "source": [
    "All the songs contain only one instrument: Grand acoustic Piano. "
   ]
  },
  {
   "cell_type": "code",
   "execution_count": 8,
   "metadata": {},
   "outputs": [
    {
     "name": "stdout",
     "output_type": "stream",
     "text": [
      "Updated durations saved to data_preprocessed/data.csv.\n"
     ]
    }
   ],
   "source": [
    "import pandas as pd\n",
    "from fractions import Fraction\n",
    "\n",
    "# Load the CSV\n",
    "df = pd.read_csv('data_preprocessed/data.csv')\n",
    "\n",
    "# Define your conversion functions\n",
    "def convert_duration(value, precision=4):\n",
    "    if isinstance(value, list):\n",
    "        return [round(float(v), precision) if isinstance(v, Fraction) else round(v, precision) for v in value]\n",
    "    elif isinstance(value, Fraction):\n",
    "        return round(float(value), precision)\n",
    "    try:\n",
    "        return round(float(value), precision)\n",
    "    except:\n",
    "        return None\n",
    "\n",
    "def process_durations(durations_column):\n",
    "    cleaned_durations = []\n",
    "    for item in durations_column:\n",
    "        try:\n",
    "            if isinstance(item, str):\n",
    "                item = eval(item)  # ⚠️ Caution: `eval` can be dangerous with untrusted input\n",
    "            cleaned_durations.append(convert_duration(item))\n",
    "        except Exception:\n",
    "            cleaned_durations.append(None)\n",
    "    return cleaned_durations\n",
    "\n",
    "# Apply processing\n",
    "df['durations'] = process_durations(df['durations'])\n",
    "\n",
    "# Save the updated DataFrame back to CSV (overwrite the original file)\n",
    "df.to_csv('data_preprocessed/data.csv', index=False)\n",
    "\n",
    "print(\"Updated durations saved to data_preprocessed/data.csv.\")\n"
   ]
  },
  {
   "cell_type": "code",
   "execution_count": 10,
   "metadata": {},
   "outputs": [
    {
     "name": "stdout",
     "output_type": "stream",
     "text": [
      "All Fraction strings converted and saved.\n"
     ]
    }
   ],
   "source": [
    "import pandas as pd\n",
    "from fractions import Fraction\n",
    "import ast\n",
    "import re\n",
    "\n",
    "# Load your CSV\n",
    "df = pd.read_csv(\"data_preprocessed/data.csv\")\n",
    "\n",
    "# Step 1: Convert string representations of Fraction objects into real Fraction objects\n",
    "def safe_eval_fraction(obj):\n",
    "    \"\"\"Converts a string like 'Fraction(1, 2)' or a list thereof into actual numbers.\"\"\"\n",
    "    try:\n",
    "        # Try evaluating normally\n",
    "        if isinstance(obj, str):\n",
    "            # Find all occurrences of Fraction(x, y)\n",
    "            matches = re.findall(r'Fraction\\((\\d+),\\s*(\\d+)\\)', obj)\n",
    "            for num, denom in matches:\n",
    "                frac_str = f\"Fraction({num}, {denom})\"\n",
    "                obj = obj.replace(frac_str, str(Fraction(int(num), int(denom))))\n",
    "            obj = ast.literal_eval(obj)\n",
    "        return obj\n",
    "    except Exception:\n",
    "        return obj  # Return original if conversion fails\n",
    "\n",
    "# Step 2: Convert Fraction or numeric types to float with desired precision\n",
    "def convert_duration(value, precision=4):\n",
    "    if isinstance(value, list):\n",
    "        return [round(float(v), precision) if isinstance(v, Fraction) else round(float(v), precision) for v in value]\n",
    "    elif isinstance(value, Fraction):\n",
    "        return round(float(value), precision)\n",
    "    try:\n",
    "        return round(float(value), precision)\n",
    "    except:\n",
    "        return None\n",
    "\n",
    "# Step 3: Full process function\n",
    "def process_durations(durations_column):\n",
    "    cleaned_durations = []\n",
    "    for item in durations_column:\n",
    "        try:\n",
    "            parsed_item = safe_eval_fraction(item)\n",
    "            cleaned_durations.append(convert_duration(parsed_item))\n",
    "        except:\n",
    "            cleaned_durations.append(None)\n",
    "    return cleaned_durations\n",
    "\n",
    "# Apply and save\n",
    "df['durations'] = process_durations(df['durations'])\n",
    "df.to_csv(\"data_preprocessed/data.csv\", index=False)\n",
    "\n",
    "print(\"All Fraction strings converted and saved.\")\n"
   ]
  },
  {
   "cell_type": "code",
   "execution_count": null,
   "metadata": {},
   "outputs": [],
   "source": []
  }
 ],
 "metadata": {
  "kernelspec": {
   "display_name": "base",
   "language": "python",
   "name": "python3"
  },
  "language_info": {
   "codemirror_mode": {
    "name": "ipython",
    "version": 3
   },
   "file_extension": ".py",
   "mimetype": "text/x-python",
   "name": "python",
   "nbconvert_exporter": "python",
   "pygments_lexer": "ipython3",
   "version": "3.12.3"
  }
 },
 "nbformat": 4,
 "nbformat_minor": 2
}
