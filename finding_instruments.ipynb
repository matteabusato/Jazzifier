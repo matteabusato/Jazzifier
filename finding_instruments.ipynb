{
 "cells": [
  {
   "cell_type": "code",
   "execution_count": null,
   "metadata": {},
   "outputs": [],
   "source": [
    "import mido\n",
    "\n",
    "# Load MIDI file\n",
    "mid = mido.MidiFile(\"Jazzifier/data_alltogheter/0_Don't Ask Why - Live At Maybeck Recital Hall  Berkeley, CA.midi\")\n",
    "\n",
    "# Track instrument programs\n",
    "instruments = set()\n",
    "\n",
    "for track in mid.tracks:\n",
    "    for msg in track:\n",
    "        if msg.type == 'program_change':\n",
    "            instruments.add(msg.program)\n",
    "\n",
    "# Print instruments (as program numbers)\n",
    "print(f\"Instrument program numbers: {instruments}\")\n"
   ]
  },
  {
   "cell_type": "code",
   "execution_count": null,
   "metadata": {},
   "outputs": [],
   "source": [
    "import pretty_midi\n",
    "\n",
    "# Load MIDI file\n",
    "midi_data = pretty_midi.PrettyMIDI(\"Jazzifier/data_alltogheter/0_Don't Ask Why - Live At Maybeck Recital Hall  Berkeley, CA.midi\")\n",
    "\n",
    "# Extract instruments\n",
    "for instrument in midi_data.instruments:\n",
    "    name = instrument.name if instrument.name else \"Unnamed\"\n",
    "    program = instrument.program\n",
    "    is_drum = instrument.is_drum\n",
    "    instrument_name = pretty_midi.program_to_instrument_name(program)\n",
    "    print(f\"Instrument: {instrument_name}, Program: {program}, Name: {name}, Drum: {is_drum}\")\n"
   ]
  }
 ],
 "metadata": {
  "kernelspec": {
   "display_name": "base",
   "language": "python",
   "name": "python3"
  },
  "language_info": {
   "name": "python",
   "version": "3.12.2"
  }
 },
 "nbformat": 4,
 "nbformat_minor": 2
}
