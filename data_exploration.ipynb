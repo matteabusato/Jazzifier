{
 "cells": [
  {
   "cell_type": "markdown",
   "id": "b1df4e35",
   "metadata": {},
   "source": [
    "# Data Cleaning and Exploration"
   ]
  },
  {
   "cell_type": "markdown",
   "id": "97840625",
   "metadata": {},
   "source": [
    "Now we want to clean the dataset and explore the values."
   ]
  },
  {
   "cell_type": "markdown",
   "id": "c2b8f7c9",
   "metadata": {},
   "source": [
    "### Libraries"
   ]
  },
  {
   "cell_type": "code",
   "execution_count": 5,
   "id": "6b08107e",
   "metadata": {},
   "outputs": [],
   "source": [
    "from pathlib import Path\n",
    "import shutil\n",
    "import os\n",
    "from music21 import converter, note, chord, instrument, meter, tempo, key\n",
    "import pandas as pd\n",
    "import matplotlib.pyplot as plt\n",
    "import seaborn as sns\n",
    "from collections import Counter\n",
    "import ast\n",
    "import re\n",
    "from fractions import Fraction"
   ]
  },
  {
   "cell_type": "markdown",
   "id": "655597b9",
   "metadata": {},
   "source": [
    "## Data cleaning\n"
   ]
  },
  {
   "cell_type": "markdown",
   "id": "0512d4c9",
   "metadata": {},
   "source": [
    "### Checking instrument types"
   ]
  },
  {
   "cell_type": "code",
   "execution_count": null,
   "id": "144492fd",
   "metadata": {},
   "outputs": [],
   "source": [
    "import os\n",
    "import pretty_midi\n",
    "\n",
    "# Path to the directory containing MIDI files\n",
    "midi_dir = \"data_alltogheter\"\n",
    "\n",
    "# Get list of .mid or .midi files (first 100)\n",
    "midi_files = [f for f in os.listdir(midi_dir) if f.lower().endswith(('.mid', '.midi'))]\n",
    "\n",
    "# Iterate over each file\n",
    "for filename in midi_files:\n",
    "    filepath = os.path.join(midi_dir, filename)\n",
    "    \n",
    "    try:\n",
    "        midi_data = pretty_midi.PrettyMIDI(filepath)\n",
    "        printed_header = False  # Only print filename if non-piano instrument is found\n",
    "\n",
    "        for instrument in midi_data.instruments:\n",
    "            if not instrument.is_drum and instrument.program != 0:\n",
    "                if not printed_header:\n",
    "                    print(f\"\\n--- Processing: {filename} ---\")\n",
    "                    printed_header = True\n",
    "\n",
    "                name = instrument.name if instrument.name else \"Unnamed\"\n",
    "                program = instrument.program\n",
    "                instrument_name = pretty_midi.program_to_instrument_name(program)\n",
    "                print(f\"Instrument: {instrument_name}, Program: {program}, Name: {name}, Drum: False\")\n",
    "\n",
    "    except Exception as e:\n",
    "        print(f\"Error processing {filename}: {e}\")\n"
   ]
  },
  {
   "cell_type": "markdown",
   "id": "33dec9b4",
   "metadata": {},
   "source": [
    "### Converting fractions"
   ]
  },
  {
   "cell_type": "code",
   "execution_count": null,
   "id": "669d0c81",
   "metadata": {},
   "outputs": [],
   "source": [
    "# Load your CSV\n",
    "df = pd.read_csv(\"data_preprocessed/data.csv\")\n",
    "\n",
    "# Step 1: Safe conversion of Fraction(x, y) strings\n",
    "def safe_eval_fraction(obj):\n",
    "    try:\n",
    "        if isinstance(obj, str):\n",
    "            # Replace all Fraction(x, y) with actual float values\n",
    "            obj = re.sub(\n",
    "                r'Fraction\\((\\d+),\\s*(\\d+)\\)',\n",
    "                lambda m: str(float(Fraction(int(m.group(1)), int(m.group(2))))),\n",
    "                obj\n",
    "            )\n",
    "            obj = ast.literal_eval(obj)\n",
    "        return obj\n",
    "    except Exception as e:\n",
    "        return None\n",
    "\n",
    "# Step 2: Convert to rounded float\n",
    "def convert_duration(value, precision=4):\n",
    "    try:\n",
    "        if isinstance(value, list):\n",
    "            return [round(float(v), precision) for v in value]\n",
    "        return round(float(value), precision)\n",
    "    except:\n",
    "        return None\n",
    "\n",
    "# Step 3: Full processing function\n",
    "def process_column(column):\n",
    "    return [convert_duration(safe_eval_fraction(val)) for val in column]\n",
    "\n",
    "# Apply to both columns\n",
    "if 'durations' in df.columns:\n",
    "    df['durations'] = process_column(df['durations'])\n",
    "\n",
    "if 'offsets' in df.columns:\n",
    "    df['offsets'] = process_column(df['offsets'])\n",
    "\n",
    "# Save once at the end\n",
    "df.to_csv(\"data_preprocessed/data.csv\", index=False)\n",
    "print(\"Updated 'durations' and 'offsets' columns successfully.\")\n"
   ]
  },
  {
   "cell_type": "markdown",
   "id": "cee645f7",
   "metadata": {},
   "source": [
    "## Preliminary Data Exploration"
   ]
  },
  {
   "cell_type": "code",
   "execution_count": 33,
   "id": "560e6e5c",
   "metadata": {},
   "outputs": [
    {
     "name": "stdout",
     "output_type": "stream",
     "text": [
      "Columns in your CSV file:\n",
      "Index(['file_name', 'instrument', 'notes', 'chords', 'velocities', 'durations',\n",
      "       'offsets', 'tempos', 'time_signatures', 'key_signatures',\n",
      "       'track_names'],\n",
      "      dtype='object')\n"
     ]
    }
   ],
   "source": [
    "df = pd.read_csv(\"data_preprocessed/data.csv\")\n",
    "print(\"Columns in your CSV file:\")\n",
    "print(df.columns)"
   ]
  },
  {
   "cell_type": "code",
   "execution_count": 34,
   "id": "b7a4f3c5",
   "metadata": {},
   "outputs": [
    {
     "name": "stdout",
     "output_type": "stream",
     "text": [
      "Song 1 - 0_Don't Ask Why - Live At Maybeck Recital Hall  Berkeley, CA.midi\n",
      "Number of notes: 4906\n",
      "Number of chords: 9547\n",
      "Number of offsets: 11513\n",
      "Number of durations: 12422\n",
      "Example notes and offsets:\n",
      "Note [ at time [\n",
      "Note 4 at time 1\n",
      "Note 8 at time .\n",
      "Note , at time 2\n",
      "Note   at time 5\n",
      "Example chords: [[44,\n",
      "------------------------------\n",
      "Song 2 - 1000_Flight to Jordan.midi\n",
      "Number of notes: 3012\n",
      "Number of chords: 5276\n",
      "Number of offsets: 6903\n",
      "Number of durations: 7421\n",
      "Example notes and offsets:\n",
      "Note [ at time [\n",
      "Note 5 at time 1\n",
      "Note 5 at time .\n",
      "Note , at time 2\n",
      "Note   at time 5\n",
      "Example chords: [[36,\n",
      "------------------------------\n",
      "Song 3 - 1001_How Deep Is the Ocean.midi\n",
      "Number of notes: 2741\n",
      "Number of chords: 7358\n",
      "Number of offsets: 7060\n",
      "Number of durations: 7604\n",
      "Example notes and offsets:\n",
      "Note [ at time [\n",
      "Note 3 at time 1\n",
      "Note 6 at time .\n",
      "Note , at time 2\n",
      "Note   at time 5\n",
      "Example chords: [[51,\n",
      "------------------------------\n"
     ]
    }
   ],
   "source": [
    "for i in range(3):\n",
    "    print(f\"Song {i+1} - {df.loc[i, 'file_name']}\")\n",
    "    print(\"Number of notes:\", len(df.loc[i, 'notes']))\n",
    "    print(\"Number of chords:\", len(df.loc[i, 'chords']))\n",
    "    print(\"Number of offsets:\", len(df.loc[i, 'offsets']))\n",
    "    print(\"Number of durations:\", len(df.loc[i, 'durations']))\n",
    "    print(\"Example notes and offsets:\")\n",
    "    for n, o in zip(df.loc[i, 'notes'][:5], df.loc[i, 'offsets'][:5]):\n",
    "        print(f\"Note {n} at time {o}\")\n",
    "    print(\"Example chords:\", df.loc[i, 'chords'][:5])\n",
    "    print('-'*30)\n"
   ]
  },
  {
   "cell_type": "code",
   "execution_count": 12,
   "id": "6806304b",
   "metadata": {},
   "outputs": [
    {
     "name": "stdout",
     "output_type": "stream",
     "text": [
      "Notes parsed: 1831923\n",
      "Durations parsed: 3036504\n"
     ]
    }
   ],
   "source": [
    "def safe_parse_list_column(column_name):\n",
    "    parsed = []\n",
    "    for raw in df[column_name].dropna():\n",
    "        try:\n",
    "            parsed_list = ast.literal_eval(raw)\n",
    "            if isinstance(parsed_list, list):\n",
    "                parsed.extend(parsed_list)\n",
    "        except Exception as e:\n",
    "            print(f\"Skipping malformed row in {column_name}: {raw}\")\n",
    "    return parsed\n",
    "\n",
    "notes = safe_parse_list_column(\"notes\")\n",
    "durations = safe_parse_list_column(\"durations\")\n",
    "instruments = safe_parse_list_column(\"instrument\")\n",
    "tempos = safe_parse_list_column(\"tempos\")\n",
    "keys = safe_parse_list_column(\"key_signatures\")\n",
    "times = safe_parse_list_column(\"time_signatures\")\n",
    "velocities = safe_parse_list_column(\"velocities\")\n",
    "\n",
    "print(f\"Notes parsed: {len(notes)}\")\n",
    "print(f\"Durations parsed: {len(durations)}\")"
   ]
  },
  {
   "cell_type": "markdown",
   "id": "2becad06",
   "metadata": {},
   "source": [
    "When trying to safely parse all the columns in the dataset we noticed that for the \"durations\" column there are some anormaly. We have to fix how the data was saved to be able to use this column."
   ]
  },
  {
   "cell_type": "code",
   "execution_count": 13,
   "id": "2d24a9a3",
   "metadata": {},
   "outputs": [
    {
     "name": "stdout",
     "output_type": "stream",
     "text": [
      "Notes parsed: 1831923\n",
      "Chords parsed: 3305994\n",
      "Durations parsed: 3036504\n",
      "Velocities parsed: 3036504\n",
      "Offsets parsed: 3036504\n",
      "Tempos parsed: 2093\n",
      "Time Signatures parsed: 2093\n",
      "Key Signatures parsed: 2093\n",
      "Instruments parsed: 2093\n",
      "Track Names parsed: 2093\n"
     ]
    }
   ],
   "source": [
    "def clean_and_parse_list_column(df, column_name):\n",
    "    parsed = []\n",
    "    for raw in df[column_name].dropna():\n",
    "        if not isinstance(raw, str):\n",
    "            continue\n",
    "        raw = raw.strip()\n",
    "        if not raw.startswith(\"[\") or not raw.endswith(\"]\"):\n",
    "            continue\n",
    "        try:\n",
    "            raw = re.sub(r'^\\[|\\]$', '', raw)\n",
    "            items = raw.split(\",\")\n",
    "            cleaned_items = []\n",
    "            for item in items:\n",
    "                item = item.strip().strip(\"'\\\"\")\n",
    "                try:\n",
    "                    val = float(item)\n",
    "                    cleaned_items.append(val)\n",
    "                except ValueError:\n",
    "                    cleaned_items.append(item)\n",
    "            parsed.extend(cleaned_items)\n",
    "        except Exception as e:\n",
    "            print(f\"Skipped malformed row: {raw}\")\n",
    "    return parsed\n",
    "\n",
    "# Parse each relevant column\n",
    "notes = clean_and_parse_list_column(df, \"notes\")\n",
    "chords = clean_and_parse_list_column(df, \"chords\")\n",
    "durations = clean_and_parse_list_column(df, \"durations\")\n",
    "velocities = clean_and_parse_list_column(df, \"velocities\")\n",
    "offsets = clean_and_parse_list_column(df, \"offsets\")\n",
    "tempos = clean_and_parse_list_column(df, \"tempos\")\n",
    "time_signatures = clean_and_parse_list_column(df, \"time_signatures\")\n",
    "key_signatures = clean_and_parse_list_column(df, \"key_signatures\")\n",
    "instruments = clean_and_parse_list_column(df, \"instrument\")\n",
    "track_names = clean_and_parse_list_column(df, \"track_names\")\n",
    "\n",
    "# Optional: print out sample sizes\n",
    "print(f\"Notes parsed: {len(notes)}\")\n",
    "print(f\"Chords parsed: {len(chords)}\")\n",
    "print(f\"Durations parsed: {len(durations)}\")\n",
    "print(f\"Velocities parsed: {len(velocities)}\")\n",
    "print(f\"Offsets parsed: {len(offsets)}\")\n",
    "print(f\"Tempos parsed: {len(tempos)}\")\n",
    "print(f\"Time Signatures parsed: {len(time_signatures)}\")\n",
    "print(f\"Key Signatures parsed: {len(key_signatures)}\")\n",
    "print(f\"Instruments parsed: {len(instruments)}\")\n",
    "print(f\"Track Names parsed: {len(track_names)}\")\n"
   ]
  },
  {
   "cell_type": "markdown",
   "id": "d83e5a63",
   "metadata": {},
   "source": [
    "### Notes"
   ]
  },
  {
   "cell_type": "code",
   "execution_count": null,
   "id": "3bda24c5",
   "metadata": {},
   "outputs": [
    {
     "name": "stdout",
     "output_type": "stream",
     "text": [
      "Notes:\n",
      "Unique notes: 88\n",
      "count    1.831923e+06\n",
      "mean     6.181524e+01\n",
      "std      1.393873e+01\n",
      "min      2.100000e+01\n",
      "25%      5.200000e+01\n",
      "50%      6.200000e+01\n",
      "75%      7.100000e+01\n",
      "max      1.080000e+02\n",
      "dtype: float64\n"
     ]
    }
   ],
   "source": [
    "print(\"Notes:\")\n",
    "print(f\"Unique notes: {len(set(notes))}\")\n",
    "print(pd.Series(notes).describe())"
   ]
  },
  {
   "cell_type": "markdown",
   "id": "eee39187",
   "metadata": {},
   "source": [
    "### Durations"
   ]
  },
  {
   "cell_type": "code",
   "execution_count": null,
   "id": "568796a0",
   "metadata": {},
   "outputs": [
    {
     "name": "stdout",
     "output_type": "stream",
     "text": [
      "\n",
      "Durations:\n",
      "count     4039871\n",
      "unique        412\n",
      "top            3)\n",
      "freq       852548\n",
      "dtype: object\n",
      "0    [0.5, 1.0, 0.75, 0.5, 0.75, 0.25, 2.0, 1.25, 1...\n",
      "1    [0.25, 2.5, Fraction(5, 3), 0.75, 0.75, Fracti...\n",
      "2    [2.75, 2.5, 2.25, Fraction(5, 3), Fraction(1, ...\n",
      "3    [2.0, Fraction(1, 3), 1.0, 0.25, 0.75, 1.5, 0....\n",
      "4    [1.25, 0.5, Fraction(1, 3), 1.0, 2.25, 1.0, Fr...\n",
      "Name: durations, dtype: object\n"
     ]
    }
   ],
   "source": [
    "print(\"\\nDurations:\")\n",
    "print(pd.Series(durations).describe())\n",
    "print(df[\"durations\"].head())"
   ]
  },
  {
   "cell_type": "code",
   "execution_count": null,
   "id": "860cf51b",
   "metadata": {},
   "outputs": [
    {
     "name": "stdout",
     "output_type": "stream",
     "text": [
      "0    [0.5, 1.0, 0.75, 0.5, 0.75, 0.25, 2.0, 1.25, 1...\n",
      "1    [0.25, 2.5, 1.6667, 0.75, 0.75, 1.6667, 0.5, 1...\n",
      "2    [2.75, 2.5, 2.25, 1.6667, 0.3333, 1.0, 0.6667,...\n",
      "3    [2.0, 0.3333, 1.0, 0.25, 0.75, 1.5, 0.5, 0.5, ...\n",
      "4    [1.25, 0.5, 0.3333, 1.0, 2.25, 1.0, 2.3333, 2....\n",
      "Name: durations, dtype: object\n"
     ]
    }
   ],
   "source": [
    "def convert_duration(value, precision=4):\n",
    "    if isinstance(value, list):\n",
    "        return [round(float(v), precision) if isinstance(v, Fraction) else round(v, precision) for v in value]\n",
    "    elif isinstance(value, Fraction):\n",
    "        return round(float(value), precision)\n",
    "    try:\n",
    "        return round(float(value), precision)\n",
    "    except:\n",
    "        return None\n",
    "\n",
    "def process_durations(durations_column):\n",
    "    cleaned_durations = []\n",
    "    for item in durations_column:\n",
    "        try:\n",
    "            if isinstance(item, str):\n",
    "                item = eval(item)\n",
    "            cleaned_durations.append(convert_duration(item))\n",
    "        except Exception as e:\n",
    "            cleaned_durations.append(None)\n",
    "    return cleaned_durations\n",
    "\n",
    "df['durations'] = process_durations(df['durations'])\n",
    "\n",
    "print(df['durations'].head())"
   ]
  },
  {
   "cell_type": "markdown",
   "id": "1739e045",
   "metadata": {},
   "source": [
    "### Instruments"
   ]
  },
  {
   "cell_type": "code",
   "execution_count": null,
   "id": "3b64043b",
   "metadata": {},
   "outputs": [
    {
     "name": "stdout",
     "output_type": "stream",
     "text": [
      "\n",
      "Instruments:\n",
      "Unknown    2093\n",
      "Name: count, dtype: int64\n"
     ]
    }
   ],
   "source": [
    "print(\"\\nInstruments:\")\n",
    "print(pd.Series(instruments).value_counts())"
   ]
  },
  {
   "cell_type": "markdown",
   "id": "6b6a2cfd",
   "metadata": {},
   "source": [
    "### Key Signatures"
   ]
  },
  {
   "cell_type": "code",
   "execution_count": null,
   "id": "e5a505a9",
   "metadata": {},
   "outputs": [
    {
     "name": "stdout",
     "output_type": "stream",
     "text": [
      "\n",
      "Key Signatures:\n",
      "    2093\n",
      "Name: count, dtype: int64\n"
     ]
    }
   ],
   "source": [
    "print(\"\\nKey Signatures:\")\n",
    "print(pd.Series(keys).value_counts())"
   ]
  },
  {
   "cell_type": "markdown",
   "id": "924a6a4a",
   "metadata": {},
   "source": [
    "### Time Signatures"
   ]
  },
  {
   "cell_type": "code",
   "execution_count": null,
   "id": "8ae6cef1",
   "metadata": {},
   "outputs": [
    {
     "name": "stdout",
     "output_type": "stream",
     "text": [
      "\n",
      "Time Signatures:\n",
      "4/4    2093\n",
      "Name: count, dtype: int64\n"
     ]
    }
   ],
   "source": [
    "print(\"\\nTime Signatures:\")\n",
    "print(pd.Series(times).value_counts())"
   ]
  },
  {
   "cell_type": "markdown",
   "id": "81f08d60",
   "metadata": {},
   "source": [
    "### Tempos"
   ]
  },
  {
   "cell_type": "code",
   "execution_count": null,
   "id": "e9f30511",
   "metadata": {},
   "outputs": [
    {
     "name": "stdout",
     "output_type": "stream",
     "text": [
      "\n",
      "Tempos:\n",
      "count    2093.0\n",
      "mean      120.0\n",
      "std         0.0\n",
      "min       120.0\n",
      "25%       120.0\n",
      "50%       120.0\n",
      "75%       120.0\n",
      "max       120.0\n",
      "dtype: float64\n"
     ]
    }
   ],
   "source": [
    "print(\"\\nTempos:\")\n",
    "print(pd.Series(tempos).describe())"
   ]
  },
  {
   "cell_type": "markdown",
   "id": "678ebd3a",
   "metadata": {},
   "source": [
    "### Velocities"
   ]
  },
  {
   "cell_type": "code",
   "execution_count": null,
   "id": "486cf14a",
   "metadata": {},
   "outputs": [
    {
     "name": "stdout",
     "output_type": "stream",
     "text": [
      "\n",
      "Velocities:\n",
      "count    3.036504e+06\n",
      "mean     5.950470e+01\n",
      "std      1.008162e+01\n",
      "min      1.500000e+01\n",
      "25%      5.200000e+01\n",
      "50%      6.000000e+01\n",
      "75%      6.700000e+01\n",
      "max      8.800000e+01\n",
      "dtype: float64\n"
     ]
    }
   ],
   "source": [
    "print(\"\\nVelocities:\")\n",
    "print(pd.Series(velocities).describe())"
   ]
  }
 ],
 "metadata": {
  "kernelspec": {
   "display_name": ".venv",
   "language": "python",
   "name": "python3"
  },
  "language_info": {
   "codemirror_mode": {
    "name": "ipython",
    "version": 3
   },
   "file_extension": ".py",
   "mimetype": "text/x-python",
   "name": "python",
   "nbconvert_exporter": "python",
   "pygments_lexer": "ipython3",
   "version": "3.12.2"
  }
 },
 "nbformat": 4,
 "nbformat_minor": 5
}
