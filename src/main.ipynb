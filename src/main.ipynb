{
 "cells": [
  {
<<<<<<< HEAD
   "cell_type": "code",
   "execution_count": null,
   "metadata": {},
   "outputs": [],
   "source": []
=======
   "cell_type": "markdown",
   "id": "dfa7f472",
   "metadata": {},
   "source": [
    "# Jazzifier: Genre-to-Jazz Music Conversion "
   ]
>>>>>>> a94b74d8b1d20c40ce6ae4dc310af327943e1a54
  }
 ],
 "metadata": {
  "language_info": {
   "name": "python"
  }
 },
 "nbformat": 4,
<<<<<<< HEAD
 "nbformat_minor": 2
=======
 "nbformat_minor": 5
>>>>>>> a94b74d8b1d20c40ce6ae4dc310af327943e1a54
}
