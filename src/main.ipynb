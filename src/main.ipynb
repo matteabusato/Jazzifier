{
 "cells": [
  {
   "cell_type": "markdown",
   "id": "dfa7f472",
   "metadata": {},
   "source": [
    "# Jazzifier: Genre-to-Jazz Music Conversion "
   ]
  }
 ],
 "metadata": {
  "language_info": {
   "name": "python"
  }
 },
 "nbformat": 4,
 "nbformat_minor": 5
}
