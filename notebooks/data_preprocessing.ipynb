{
 "cells": [
  {
   "cell_type": "markdown",
   "id": "de0dda72",
   "metadata": {},
   "source": [
    "# Data Preprocessing"
   ]
  },
  {
   "cell_type": "markdown",
   "id": "79a32669",
   "metadata": {},
   "source": [
    "This notebook covers the preprocessing steps required to convert raw MIDI files into structured tabular data, which will be used for model training in our music generation project."
   ]
  },
  {
   "cell_type": "markdown",
   "id": "74efe2c0",
   "metadata": {},
   "source": [
    "### Libraries"
   ]
  },
  {
   "cell_type": "code",
   "execution_count": null,
   "id": "c7aff263",
   "metadata": {},
   "outputs": [],
   "source": [
    "import os\n",
    "import shutil\n",
    "from pathlib import Path\n",
    "\n",
    "from music21 import chord, converter, key, meter, note, tempo"
   ]
  },
  {
   "cell_type": "markdown",
   "id": "681b869d",
   "metadata": {},
   "source": [
    "### Useful functions"
   ]
  },
  {
   "cell_type": "markdown",
   "id": "a7d80b5f",
   "metadata": {},
   "source": [
    "To handle large datasets, we define helper functions to load data from split CSVs and optionally save new processed DataFrames back into separate files. This approach keeps the workflow modular and scalable."
   ]
  },
  {
   "cell_type": "code",
   "execution_count": 3,
   "id": "434aa9bc",
   "metadata": {},
   "outputs": [],
   "source": [
    "def load_dataframe_from_two_csvs(file1, file2):\n",
    "    \"\"\"\n",
    "    Load and concatenate two CSV files into a single pandas DataFrame.\n",
    "    \"\"\"\n",
    "    df1 = pd.read_csv(file1)\n",
    "    df2 = pd.read_csv(file2)\n",
    "    full_df = pd.concat([df1, df2], ignore_index=True)\n",
    "    return full_df\n",
    "\n",
    "def save_dataframe_to_two_csvs(df, file1, file2):\n",
    "    \"\"\"\n",
    "    Split a DataFrame in half and save it into two CSV files.\n",
    "    \"\"\"\n",
    "    halfway = len(df) // 2\n",
    "    df.iloc[:halfway].to_csv(file1, index=False)\n",
    "    df.iloc[halfway:].to_csv(file2, index=False)\n"
   ]
  },
  {
   "cell_type": "markdown",
   "id": "c21d621d",
   "metadata": {},
   "source": [
    "## Parse MIDI files and save into CSV format"
   ]
  },
  {
   "cell_type": "markdown",
   "id": "babdcf5f",
   "metadata": {},
   "source": [
    "We copy all MIDI files into a single folder."
   ]
  },
  {
   "cell_type": "code",
   "execution_count": null,
   "id": "dbc8c829",
   "metadata": {},
   "outputs": [],
   "source": [
    "source_dirs = [Path(\"raw_data/live\").resolve(), Path(\"raw_data/studio\").resolve()]\n",
    "destination_dir = Path(\"data_alltogheter\").resolve()\n",
    "\n",
    "os.makedirs(destination_dir, exist_ok=True)\n",
    "\n",
    "file_id = 0\n",
    "\n",
    "for source_dir in source_dirs:\n",
    "    for root, _, files in os.walk(source_dir):\n",
    "        for file in files:\n",
    "            if file.lower().endswith((\".mid\", \".midi\")):\n",
    "                source_file = Path(root) / file\n",
    "                new_filename = f\"{file_id}_{file}\"\n",
    "                destination_file = destination_dir / new_filename\n",
    "\n",
    "                try:\n",
    "                    shutil.copy2(source_file, destination_file)\n",
    "                    print(f\"Copied: {source_file} → {destination_file}\")\n",
    "                    file_id += 1\n",
    "                except Exception as e:\n",
    "                    print(f\"Failed to copy {source_file}: {e}\")\n",
    "\n",
    "print(\"Done copying MIDI files.\")"
   ]
  },
  {
   "cell_type": "markdown",
   "id": "6b8e0d96",
   "metadata": {},
   "source": [
    "We parse the files, retrieve the information from each MIDI and save it in CSV format"
   ]
  },
  {
   "cell_type": "code",
   "execution_count": null,
   "id": "9facbcc9",
   "metadata": {},
   "outputs": [
    {
     "name": "stderr",
     "output_type": "stream",
     "text": [
      "C:\\Users\\busat\\AppData\\Local\\Temp\\ipykernel_12068\\726237520.py:65: Music21DeprecationWarning: .flat is deprecated.  Call .flatten() instead\n",
      "  midi_data = parse_midi_file(file_path)\n"
     ]
    },
    {
     "name": "stdout",
     "output_type": "stream",
     "text": [
      "Data saved to data_preprocessed/data.csv\n"
     ]
    }
   ],
   "source": [
    "def parse_midi_file(file_path):\n",
    "    \"\"\"\n",
    "    Parse a MIDI file and extract relevant musical information.\n",
    "    \"\"\"\n",
    "\n",
    "    score = converter.parse(file_path)\n",
    "    \n",
    "    midi_data = {\n",
    "        'file_name': os.path.basename(file_path),\n",
    "        'instrument': [],\n",
    "        'notes': [],\n",
    "        'chords': [],\n",
    "        'velocities': [],\n",
    "        'durations': [],\n",
    "        'offsets': [],\n",
    "        'tempos': [],\n",
    "        'time_signatures': [],\n",
    "        'key_signatures': [],\n",
    "        'track_names': []\n",
    "    }\n",
    "    \n",
    "    for element in score.flat:\n",
    "        if isinstance(element, tempo.MetronomeMark):\n",
    "            midi_data['tempos'].append(element.getQuarterBPM())\n",
    "        if isinstance(element, meter.TimeSignature):\n",
    "            midi_data['time_signatures'].append(element.ratioString)\n",
    "        if isinstance(element, key.KeySignature):\n",
    "            midi_data['key_signatures'].append(element.sharps)\n",
    "    \n",
    "    for part in score.parts:\n",
    "        part_instrument = part.getInstrument().instrumentName or 'Unknown'\n",
    "        midi_data['instrument'].append(part_instrument)\n",
    "        \n",
    "        track_name = part.partName or 'Unnamed Track'\n",
    "        midi_data['track_names'].append(track_name)\n",
    "        \n",
    "        for elem in part.recurse().notes:\n",
    "            if isinstance(elem, note.Note):\n",
    "                midi_data['notes'].append(elem.pitch.midi)\n",
    "                midi_data['durations'].append(elem.quarterLength)\n",
    "                midi_data['offsets'].append(elem.offset)\n",
    "                midi_data['velocities'].append(elem.volume.velocity)\n",
    "            elif isinstance(elem, chord.Chord):\n",
    "                chord_pitches = [p.midi for p in elem.pitches]\n",
    "                midi_data['chords'].append(chord_pitches)\n",
    "                midi_data['durations'].append(elem.quarterLength)\n",
    "                midi_data['offsets'].append(elem.offset)\n",
    "                midi_data['velocities'].append(elem.volume.velocity)\n",
    "    \n",
    "    return midi_data\n",
    "\n",
    "\n",
    "def process_midi_files(midi_dir):\n",
    "    all_data = []\n",
    "    \n",
    "    for root, _, files in os.walk(midi_dir):\n",
    "        for file in files:\n",
    "            if file.lower().endswith('.mid') or file.lower().endswith('.midi'):\n",
    "                file_path = os.path.join(root, file)\n",
    "                midi_data = parse_midi_file(file_path)\n",
    "                all_data.append(midi_data)\n",
    "    \n",
    "    return all_data\n",
    "\n",
    "\n",
    "def save_data_to_csv(all_data, output_file):\n",
    "    df = pd.DataFrame(all_data)\n",
    "    \n",
    "    df.to_csv(output_file, index=False)\n",
    "    print(f\"Data saved to {output_file}\")\n",
    "\n",
    "midi_directory = 'data_alltogheter'\n",
    "output_csv_file = 'data_preprocessed/data.csv'\n",
    "\n",
    "all_midi_data = process_midi_files(midi_directory)\n",
    "\n",
    "save_data_to_csv(all_midi_data, output_csv_file)"
   ]
  }
 ],
 "metadata": {
  "kernelspec": {
   "display_name": "base",
   "language": "python",
   "name": "python3"
  },
  "language_info": {
   "codemirror_mode": {
    "name": "ipython",
    "version": 3
   },
   "file_extension": ".py",
   "mimetype": "text/x-python",
   "name": "python",
   "nbconvert_exporter": "python",
   "pygments_lexer": "ipython3",
   "version": "3.12.3"
  }
 },
 "nbformat": 4,
 "nbformat_minor": 5
}
