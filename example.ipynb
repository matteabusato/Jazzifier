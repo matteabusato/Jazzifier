{
 "cells": [
  {
   "cell_type": "markdown",
   "id": "a85cfe8a",
   "metadata": {},
   "source": [
    "# Example of usage"
   ]
  },
  {
   "cell_type": "code",
   "execution_count": 2,
   "id": "3fc96d83",
   "metadata": {},
   "outputs": [],
   "source": [
    "import numpy as np\n",
    "import pandas as pd"
   ]
  },
  {
   "cell_type": "markdown",
   "id": "48002b95",
   "metadata": {},
   "source": [
    "### Useful functions"
   ]
  },
  {
   "cell_type": "markdown",
   "id": "b83feff3",
   "metadata": {},
   "source": [
    "Since the data was too heavy, we save the dataset into two separate CSV files. The following functions are for easier access"
   ]
  },
  {
   "cell_type": "code",
   "execution_count": 3,
   "id": "ff8c0987",
   "metadata": {},
   "outputs": [],
   "source": [
    "def load_dataframe_from_two_csvs(file1, file2):\n",
    "    \"\"\"\n",
    "    Load and concatenate two CSV files into a single pandas DataFrame.\n",
    "    \"\"\"\n",
    "    df1 = pd.read_csv(file1)\n",
    "    df2 = pd.read_csv(file2)\n",
    "    full_df = pd.concat([df1, df2], ignore_index=True)\n",
    "    return full_df\n",
    "\n",
    "def save_dataframe_to_two_csvs(df, file1, file2):\n",
    "    \"\"\"\n",
    "    Split a DataFrame in half and save it into two CSV files.\n",
    "    \"\"\"\n",
    "    halfway = len(df) // 2\n",
    "    df.iloc[:halfway].to_csv(file1, index=False)\n",
    "    df.iloc[halfway:].to_csv(file2, index=False)"
   ]
  },
  {
   "cell_type": "markdown",
   "id": "84b2d233",
   "metadata": {},
   "source": [
    "## To load Dataset"
   ]
  },
  {
   "cell_type": "code",
   "execution_count": 4,
   "id": "754fddb7",
   "metadata": {},
   "outputs": [],
   "source": [
    "root = 'data_processed/'\n",
    "file1 = root + 'data_part1.csv'\n",
    "file2 = root + 'data_part2.csv'\n",
    "\n",
    "df = load_dataframe_from_two_csvs(file1, file2)"
   ]
  },
  {
   "cell_type": "markdown",
   "id": "f941e584",
   "metadata": {},
   "source": [
    "## To save a new Dataset in CSV"
   ]
  },
  {
   "cell_type": "code",
   "execution_count": null,
   "id": "1dee5f06",
   "metadata": {},
   "outputs": [],
   "source": [
    "root = 'new_folder/'\n",
    "file1 = root + 'data_part1.csv'\n",
    "file2 = root + 'data_part2.csv'\n",
    "save_dataframe_to_two_csvs(df, file1, file2)"
   ]
  }
 ],
 "metadata": {
  "kernelspec": {
   "display_name": "base",
   "language": "python",
   "name": "python3"
  },
  "language_info": {
   "codemirror_mode": {
    "name": "ipython",
    "version": 3
   },
   "file_extension": ".py",
   "mimetype": "text/x-python",
   "name": "python",
   "nbconvert_exporter": "python",
   "pygments_lexer": "ipython3",
   "version": "3.12.3"
  }
 },
 "nbformat": 4,
 "nbformat_minor": 5
}
